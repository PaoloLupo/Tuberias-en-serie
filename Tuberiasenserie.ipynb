{
 "cells": [
  {
   "cell_type": "markdown",
   "metadata": {
    "pycharm": {
     "name": "#%% md\n"
    }
   },
   "source": [
    "TUBERIAS EN SERIE\n",
    "---\n",
    "Metodología bibliografia Saldarriaga"
   ]
  },
  {
   "cell_type": "code",
   "execution_count": 31,
   "metadata": {
    "collapsed": false,
    "pycharm": {
     "name": "#%%\n"
    }
   },
   "outputs": [],
   "source": [
    "import numpy as np\n",
    "import math\n",
    "import sympy as sp\n",
    "from scipy import optimize"
   ]
  },
  {
   "cell_type": "code",
   "execution_count": 32,
   "metadata": {
    "collapsed": false,
    "pycharm": {
     "name": "#%%\n"
    }
   },
   "outputs": [],
   "source": [
    "#constantes fisicas y del problema\n",
    "g = 9.81 #gravedad\n",
    "visc_c = 1.14 * 10**(-6) # coeficiente de viscosidad cinematica 15 grados\n"
   ]
  },
  {
   "cell_type": "code",
   "execution_count": 33,
   "metadata": {
    "collapsed": false,
    "pycharm": {
     "name": "#%%\n"
    }
   },
   "outputs": [
    {
     "data": {
      "text/latex": [
       "$\\displaystyle \\left[\\begin{matrix}600.0 & 423.0 & 0.3 & 4.2\\\\500.0 & 174.0 & 0.0015 & 3.4\\\\300.0 & 373.0 & 0.0015 & 5.3\\\\250.0 & 121.0 & 0.0015 & 7.5\\end{matrix}\\right]$"
      ],
      "text/plain": [
       "Matrix([\n",
       "[600.0, 423.0,    0.3, 4.2],\n",
       "[500.0, 174.0, 0.0015, 3.4],\n",
       "[300.0, 373.0, 0.0015, 5.3],\n",
       "[250.0, 121.0, 0.0015, 7.5]])"
      ]
     },
     "execution_count": 33,
     "metadata": {},
     "output_type": "execute_result"
    }
   ],
   "source": [
    "#MODIFICAR DATOS INICIALES DEL PROBLEMA\n",
    "#ALTURA GEOMETRICA\n",
    "Ht = 28.5\n",
    "# DATOS DE CADA TUBERIA a colocar (d(mm), L(m), k(mm), K)\n",
    "d_tuberias = np.array([\n",
    "    (600, 423, 0.3, 4.2),\n",
    "    (500, 174, 0.0015, 3.4),\n",
    "    (300, 373, 0.0015, 5.3),\n",
    "    (250, 121, 0.0015, 7.5)\n",
    "])\n",
    "sp.Matrix(d_tuberias)\n",
    "#DATOS MOSTRADOS EN FORMA MATRICIAL"
   ]
  },
  {
   "cell_type": "code",
   "execution_count": 34,
   "metadata": {
    "collapsed": false,
    "pycharm": {
     "name": "#%%\n"
    }
   },
   "outputs": [
    {
     "data": {
      "text/latex": [
       "$\\displaystyle \\left[\\begin{matrix}0.06\\\\0.074\\\\0.06\\end{matrix}\\right]$"
      ],
      "text/plain": [
       "Matrix([\n",
       "[ 0.06],\n",
       "[0.074],\n",
       "[ 0.06]])"
      ]
     },
     "execution_count": 34,
     "metadata": {},
     "output_type": "execute_result"
    }
   ],
   "source": [
    "#CAUDALES EXTREMOS FINALES\n",
    "# datos tuberias caudal extremo final (l/s)\n",
    "q_tuberias = np.array([\n",
    "    60,\n",
    "    74,\n",
    "    60,\n",
    "])/1000\n",
    "sp.Matrix(q_tuberias)"
   ]
  },
  {
   "cell_type": "code",
   "execution_count": 35,
   "metadata": {
    "collapsed": false,
    "pycharm": {
     "name": "#%%\n"
    }
   },
   "outputs": [
    {
     "data": {
      "text/plain": [
       "0.5375501984623472"
      ]
     },
     "execution_count": 35,
     "metadata": {},
     "output_type": "execute_result"
    }
   ],
   "source": [
    "\n",
    "d = 0\n",
    "for i in range(len(d_tuberias)):\n",
    "    d += d_tuberias[i,1]/((d_tuberias[i,0]/1000)**5)\n",
    "h_f1 =  Ht * (d_tuberias[0,1]/(d_tuberias[0,0]/1000)**5)/d\n",
    "h_f1"
   ]
  },
  {
   "cell_type": "code",
   "execution_count": 36,
   "metadata": {
    "collapsed": false,
    "pycharm": {
     "name": "#%%\n"
    }
   },
   "outputs": [],
   "source": [
    "class Tub_serie:\n",
    "\n",
    "    #constantes físicas\n",
    "    g = 9.81 #gravedad\n",
    "    visc_c = 1.14 * 10**(-6) # coeficiente de viscosidad cinematica 15 grados\n",
    "\n",
    "    N_iter = 0\n",
    "\n",
    "    def __init__(self,d_tuberias,q_tuberias,Ht):\n",
    "        self.d_tuberias = d_tuberias\n",
    "        self.q_tuberias = q_tuberias\n",
    "        self.Ht = Ht\n",
    "        Tub_serie.N_iter += 1\n",
    "        self.N_iter = Tub_serie.N_iter\n",
    "\n",
    "    def v_1(self):\n",
    "        D1_metros = self.d_tuberias[0,0]/1000\n",
    "        k1_metros = self.d_tuberias[0,2]/1000\n",
    "        m = math.sqrt(2*g*D1_metros*h_f1)\n",
    "        return ((-2 * m)/math.sqrt(self.d_tuberias[0,1]))*\\\n",
    "                    math.log10((k1_metros/(3.7*D1_metros))+\\\n",
    "                         (2.51*visc_c*math.sqrt(self.d_tuberias[0,1]))/(D1_metros*m))\n",
    "\n",
    "    def q_n(self):\n",
    "        q_n = np.empty(len(self.d_tuberias))\n",
    "        q = 0\n",
    "        q_n[0] = math.pi/4 * (self.d_tuberias[0,0]/1000)**2 * self.v_1()\n",
    "        for i in range(len(self.q_tuberias)):\n",
    "            q += self.q_tuberias[i]\n",
    "            q_n[i+1] = math.pi/4 * (self.d_tuberias[0,0]/1000)**2 * self.v_1()-q\n",
    "\n",
    "        return q_n\n",
    "\n",
    "    def v_n(self):\n",
    "        v_n = np.empty(len(self.d_tuberias))\n",
    "        for i in range(len(self.d_tuberias)):\n",
    "            v = 4 * self.q_n()[i] / (math.pi*(self.d_tuberias[i,0]/1000)**2)\n",
    "            v_n[i] = v\n",
    "        v_n[0] = self.v_1()\n",
    "        return v_n\n",
    "\n",
    "    def n_reynolds(self):\n",
    "        re_n = np.empty(len(self.d_tuberias))\n",
    "        for i in range(len(self.d_tuberias)):\n",
    "            re = (self.d_tuberias[i,0] * self.v_n()[i]) / (visc_c*1000)\n",
    "            re_n[i] = re\n",
    "        return re_n\n",
    "\n",
    "    def f_n(self):\n",
    "        f_nc = lambda f,n : 1.0 / np.sqrt(f) + 2.0 * np.log10(\n",
    "            (self.d_tuberias[n, 2] / self.d_tuberias[n, 0]) / 3.7 + 2.51 / (self.n_reynolds()[n] * np.sqrt(f)))\n",
    "        f_n = [optimize.brentq(f_nc, 0.0000001, 1, args= (i)) for i in range(len(self.d_tuberias))]\n",
    "        f_n = np.array(f_n)\n",
    "        return f_n\n",
    "\n",
    "    def h_fn(self):\n",
    "        h_fn = np.empty(len(self.d_tuberias))\n",
    "        h_fn[0] = h_f1\n",
    "        for i in range(len(self.d_tuberias)):\n",
    "            h_f = self.f_n()[i] * self.d_tuberias[i,1] * self.v_n()[i]**2 / ((self.d_tuberias[i,0]/1000) * 2 * g)\n",
    "            h_fn[i] = h_f\n",
    "        return h_fn\n",
    "\n",
    "    def h_mn(self):\n",
    "        h_mn = np.empty(len(self.d_tuberias))\n",
    "        for i in range(len(self.d_tuberias)):\n",
    "            h_m = self.d_tuberias[i,3] * self.v_n()[i]**2 / (2 * g)\n",
    "            h_mn[i] = h_m\n",
    "        return h_mn\n",
    "\n",
    "    def s_hn(self):\n",
    "        return np.sum(self.h_fn() + self.h_mn())\n",
    "\n",
    "    def dif_hf(self):\n",
    "        d = 0\n",
    "        for i in range(len(self.d_tuberias)):\n",
    "            d += self.d_tuberias[i,1] / ((self.d_tuberias[i,0]/1000)**5)\n",
    "        dif_hf = (self.Ht-self.s_hn()) * (self.d_tuberias[0,1]/(self.d_tuberias[0,0]/1000)**5)/d\n",
    "        return dif_hf\n",
    "\n",
    "    def nh_f1(self):\n",
    "        return h_f1 + self.dif_hf()\n"
   ]
  },
  {
   "cell_type": "code",
   "execution_count": 37,
   "metadata": {
    "collapsed": false,
    "pycharm": {
     "name": "#%%\n"
    }
   },
   "outputs": [],
   "source": [
    "#ELEGIR EL NUMERO DE ITERACIONES A MAS CANTIDAD MAS TIEMPO DE CÁLCULO\n",
    "iteraciones = 10\n",
    "t =[]\n",
    "t.append(Tub_serie(d_tuberias,q_tuberias,28.5))\n",
    "for i in range(iteraciones):\n",
    "    h_f1 = t[-1].nh_f1()\n",
    "    t.append(Tub_serie(d_tuberias,q_tuberias,28.5))\n",
    "\n"
   ]
  },
  {
   "cell_type": "code",
   "execution_count": 38,
   "metadata": {
    "collapsed": false,
    "pycharm": {
     "name": "#%%\n"
    }
   },
   "outputs": [
    {
     "name": "stdout",
     "output_type": "stream",
     "text": [
      "El caudal de la última tubería es 203.07 l/s\n"
     ]
    }
   ],
   "source": [
    "#caudal buscado en l/s\n",
    "Q_buscado = round(t[-1].q_n()[-1] *1000,2)\n",
    "print(f\"El caudal de la última tubería es {Q_buscado} l/s\")\n",
    "\n",
    "\n",
    "\n"
   ]
  },
  {
   "cell_type": "code",
   "execution_count": null,
   "metadata": {},
   "outputs": [],
   "source": []
  }
 ],
 "metadata": {
  "kernelspec": {
   "display_name": "Python 3",
   "language": "python",
   "name": "python3"
  },
  "language_info": {
   "codemirror_mode": {
    "name": "ipython",
    "version": 3
   },
   "file_extension": ".py",
   "mimetype": "text/x-python",
   "name": "python",
   "nbconvert_exporter": "python",
   "pygments_lexer": "ipython3",
   "version": "3.7.3"
  }
 },
 "nbformat": 4,
 "nbformat_minor": 2
}
