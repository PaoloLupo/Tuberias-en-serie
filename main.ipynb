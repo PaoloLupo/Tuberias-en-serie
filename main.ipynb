{
 "cells": [
  {
   "cell_type": "markdown",
   "source": [
    "TUBERIAS EN SERIE\n",
    "--"
   ],
   "metadata": {
    "collapsed": false,
    "pycharm": {
     "name": "#%% md\n"
    }
   }
  },
  {
   "cell_type": "code",
   "execution_count": 171,
   "metadata": {
    "collapsed": true,
    "pycharm": {
     "name": "#%%\n"
    }
   },
   "outputs": [],
   "source": [
    "import numpy as np\n",
    "import math\n",
    "import sympy as sp\n",
    "from scipy import optimize"
   ]
  },
  {
   "cell_type": "code",
   "execution_count": 172,
   "outputs": [],
   "source": [
    "#constantes fisicas\n",
    "g = 9.81 #gravedad\n",
    "visc_c = 1.14 * 10**(-6) # coeficiente de viscosidad cinematica 15 grados"
   ],
   "metadata": {
    "collapsed": false,
    "pycharm": {
     "name": "#%%\n"
    }
   }
  },
  {
   "cell_type": "code",
   "execution_count": 173,
   "outputs": [],
   "source": [
    "n = 1\n",
    "p = 1 #densidad del fluido\n",
    "\n",
    "Ht = 28.5 #altura total = z2-z1\n",
    "E = 1"
   ],
   "metadata": {
    "collapsed": false,
    "pycharm": {
     "name": "#%%\n"
    }
   }
  },
  {
   "cell_type": "code",
   "execution_count": 174,
   "outputs": [
    {
     "data": {
      "text/plain": "Matrix([\n[600.0, 423.0,    0.3, 4.2],\n[500.0, 174.0, 0.0015, 3.4],\n[300.0, 373.0, 0.0015, 5.3],\n[250.0, 121.0, 0.0015, 7.5]])",
      "text/latex": "$\\displaystyle \\left[\\begin{matrix}600.0 & 423.0 & 0.3 & 4.2\\\\500.0 & 174.0 & 0.0015 & 3.4\\\\300.0 & 373.0 & 0.0015 & 5.3\\\\250.0 & 121.0 & 0.0015 & 7.5\\end{matrix}\\right]$"
     },
     "execution_count": 174,
     "metadata": {},
     "output_type": "execute_result"
    }
   ],
   "source": [
    "# datos a colocar (d(mm), L(m), k(mm), K)\n",
    "d_tuberias = np.array([\n",
    "    (600, 423, 0.3, 4.2),\n",
    "    (500, 174, 0.0015, 3.4),\n",
    "    (300, 373, 0.0015, 5.3),\n",
    "    (250, 121, 0.0015, 7.5)\n",
    "])\n",
    "sp.Matrix(d_tuberias)"
   ],
   "metadata": {
    "collapsed": false,
    "pycharm": {
     "name": "#%%\n"
    }
   }
  },
  {
   "cell_type": "code",
   "execution_count": 175,
   "outputs": [
    {
     "data": {
      "text/plain": "Matrix([\n[ 0.06],\n[0.074],\n[ 0.06]])",
      "text/latex": "$\\displaystyle \\left[\\begin{matrix}0.06\\\\0.074\\\\0.06\\end{matrix}\\right]$"
     },
     "execution_count": 175,
     "metadata": {},
     "output_type": "execute_result"
    }
   ],
   "source": [
    "# datos tuberias caudal extremo final (l/s)\n",
    "q_tuberias = np.array([\n",
    "    60,\n",
    "    74,\n",
    "    60,\n",
    "])/1000\n",
    "sp.Matrix(q_tuberias)"
   ],
   "metadata": {
    "collapsed": false,
    "pycharm": {
     "name": "#%%\n"
    }
   }
  },
  {
   "cell_type": "code",
   "execution_count": 176,
   "outputs": [
    {
     "data": {
      "text/plain": "0.5375501984623472"
     },
     "execution_count": 176,
     "metadata": {},
     "output_type": "execute_result"
    }
   ],
   "source": [
    "def h_f1():\n",
    "    d = 0\n",
    "    for i in range(len(d_tuberias)):\n",
    "        d += d_tuberias[i,1]/((d_tuberias[i,0]/1000)**5)\n",
    "    h_f = Ht * (d_tuberias[0,1]/(d_tuberias[0,0]/1000)**5)/d\n",
    "    return h_f\n",
    "h_f1 = h_f1()\n",
    "h_f1"
   ],
   "metadata": {
    "collapsed": false,
    "pycharm": {
     "name": "#%%\n"
    }
   }
  },
  {
   "cell_type": "code",
   "execution_count": 177,
   "outputs": [
    {
     "data": {
      "text/plain": "0.9195652130414507"
     },
     "execution_count": 177,
     "metadata": {},
     "output_type": "execute_result"
    }
   ],
   "source": [
    "# formula velocidad tuberia 1\n",
    "D1_metros = d_tuberias[0,0]/1000\n",
    "k1_metros = d_tuberias[0,2]/1000\n",
    "\n",
    "def v_1():\n",
    "    m = math.sqrt(2*g*D1_metros*h_f1)\n",
    "    v_1 = ((-2 * m)/math.sqrt(d_tuberias[0,1]))*\\\n",
    "          math.log10((k1_metros/(3.7*D1_metros))+\\\n",
    "                     (2.51*visc_c*math.sqrt(d_tuberias[0,1]))/(D1_metros*m))\n",
    "    return v_1\n",
    "\n",
    "\n",
    "v_1 = v_1()\n",
    "v_1"
   ],
   "metadata": {
    "collapsed": false,
    "pycharm": {
     "name": "#%%\n"
    }
   }
  },
  {
   "cell_type": "code",
   "execution_count": 178,
   "outputs": [
    {
     "data": {
      "text/plain": "0.18101532927375474"
     },
     "execution_count": 178,
     "metadata": {},
     "output_type": "execute_result"
    }
   ],
   "source": [
    "# calculo perdidas menores tuberia 1\n",
    "h_m1 = d_tuberias[0,3] * v_1**2/(2*g)\n",
    "h_m1"
   ],
   "metadata": {
    "collapsed": false,
    "pycharm": {
     "name": "#%%\n"
    }
   }
  },
  {
   "cell_type": "code",
   "execution_count": 179,
   "outputs": [
    {
     "data": {
      "text/plain": "0.2600009386008979"
     },
     "execution_count": 179,
     "metadata": {},
     "output_type": "execute_result"
    }
   ],
   "source": [
    "# calculo caudal tuberia 1\n",
    "Q_1 = math.pi/4 * D1_metros**2 * v_1\n",
    "Q_1"
   ],
   "metadata": {
    "collapsed": false,
    "pycharm": {
     "name": "#%%\n"
    }
   }
  },
  {
   "cell_type": "code",
   "execution_count": 180,
   "outputs": [
    {
     "data": {
      "text/plain": "Matrix([\n[ 0.260000938600898],\n[ 0.200000938600898],\n[ 0.126000938600898],\n[0.0660009386008979]])",
      "text/latex": "$\\displaystyle \\left[\\begin{matrix}0.260000938600898\\\\0.200000938600898\\\\0.126000938600898\\\\0.0660009386008979\\end{matrix}\\right]$"
     },
     "execution_count": 180,
     "metadata": {},
     "output_type": "execute_result"
    }
   ],
   "source": [
    "#calculo de caudales\n",
    "\n",
    "Q_n = np.empty(len(q_tuberias)+1)\n",
    "Q = 0\n",
    "Q_n[0] = Q_1\n",
    "\n",
    "for i in range(len(q_tuberias)):\n",
    "    Q += q_tuberias[i]\n",
    "    Q_n[i+1] = Q_1-Q\n",
    "\n",
    "\n",
    "sp.Matrix(Q_n)"
   ],
   "metadata": {
    "collapsed": false,
    "pycharm": {
     "name": "#%%\n"
    }
   }
  },
  {
   "cell_type": "code",
   "execution_count": 181,
   "outputs": [
    {
     "data": {
      "text/plain": "Matrix([\n[0.919565213041451],\n[ 1.01859641604325],\n[ 1.78254864111567],\n[ 1.34456008026081]])",
      "text/latex": "$\\displaystyle \\left[\\begin{matrix}0.919565213041451\\\\1.01859641604325\\\\1.78254864111567\\\\1.34456008026081\\end{matrix}\\right]$"
     },
     "execution_count": 181,
     "metadata": {},
     "output_type": "execute_result"
    }
   ],
   "source": [
    "v_n = np.empty(len(Q_n)+1)\n",
    "v_n[0] = v_1\n",
    "\n",
    "for i in range(len(Q_n)):\n",
    "    v = 4 * Q_n[i]/(math.pi*(d_tuberias[i,0]/1000)**2)\n",
    "    v_n[i] = v\n",
    "\n",
    "v_n = np.delete(v_n,-1)\n",
    "sp.Matrix(v_n)"
   ],
   "metadata": {
    "collapsed": false,
    "pycharm": {
     "name": "#%%\n"
    }
   }
  },
  {
   "cell_type": "markdown",
   "source": [
    "Numero de Reynolds correspondiente a cada tubería"
   ],
   "metadata": {
    "collapsed": false,
    "pycharm": {
     "name": "#%% md\n"
    }
   }
  },
  {
   "cell_type": "code",
   "execution_count": 182,
   "outputs": [
    {
     "data": {
      "text/plain": "Matrix([\n[483981.691074448],\n[446752.814054057],\n[469091.747662019],\n[294859.666723862]])",
      "text/latex": "$\\displaystyle \\left[\\begin{matrix}483981.691074448\\\\446752.814054057\\\\469091.747662019\\\\294859.666723862\\end{matrix}\\right]$"
     },
     "execution_count": 182,
     "metadata": {},
     "output_type": "execute_result"
    }
   ],
   "source": [
    "#Numero de Reynolds usa diametros en (mm)\n",
    "def N_Reynolds():\n",
    "    Re_n = np.empty(len(d_tuberias))\n",
    "    for i in range(len(d_tuberias)):\n",
    "        Re = (d_tuberias[i,0] * v_n[i])/ (visc_c*1000)\n",
    "        Re_n[i] = Re\n",
    "    return Re_n\n",
    "\n",
    "Re_n = N_Reynolds()\n",
    "sp.Matrix(Re_n)\n",
    "\n"
   ],
   "metadata": {
    "collapsed": false,
    "pycharm": {
     "name": "#%%\n"
    }
   }
  },
  {
   "cell_type": "markdown",
   "source": [
    "Hallando f con la ecuación colebrook-white"
   ],
   "metadata": {
    "collapsed": false,
    "pycharm": {
     "name": "#%% md\n"
    }
   }
  },
  {
   "cell_type": "code",
   "execution_count": 183,
   "outputs": [
    {
     "data": {
      "text/plain": "Matrix([\n[0.0176914669442501],\n[0.0134713699985465],\n[0.0133814800214088],\n[0.0145731220564714]])",
      "text/latex": "$\\displaystyle \\left[\\begin{matrix}0.0176914669442501\\\\0.0134713699985465\\\\0.0133814800214088\\\\0.0145731220564714\\end{matrix}\\right]$"
     },
     "execution_count": 183,
     "metadata": {},
     "output_type": "execute_result"
    }
   ],
   "source": [
    "# funcion para hallar los f de cada tuberia\n",
    "f_nc = lambda f,n : 1.0 / np.sqrt(f) + 2.0 * np.log10(\n",
    "            (d_tuberias[n, 2] / d_tuberias[n, 0]) / 3.7 + 2.51 /(Re_n[n]*np.sqrt(f)))\n",
    "\n",
    "f_n = [optimize.brentq(f_nc, 0.0000001, 1, args=(i))for i in range(len(d_tuberias))]\n",
    "f_n = np.array(f_n)\n",
    "sp.Matrix(f_n)"
   ],
   "metadata": {
    "collapsed": false,
    "pycharm": {
     "name": "#%%\n"
    }
   }
  },
  {
   "cell_type": "code",
   "execution_count": 195,
   "outputs": [
    {
     "data": {
      "text/plain": "Matrix([\n[0.537550198463254],\n[0.247911282963247],\n[ 2.69448334171393],\n[0.649919229574547]])",
      "text/latex": "$\\displaystyle \\left[\\begin{matrix}0.537550198463254\\\\0.247911282963247\\\\2.69448334171393\\\\0.649919229574547\\end{matrix}\\right]$"
     },
     "execution_count": 195,
     "metadata": {},
     "output_type": "execute_result"
    }
   ],
   "source": [
    "# función para hallar h_f de cada tuberia\n",
    "def h_fn():\n",
    "    h_fn = np.empty(len(d_tuberias))\n",
    "    h_fn[0] = h_f1\n",
    "    for i in range(len(d_tuberias)):\n",
    "        h_f = f_n[i] * d_tuberias[i,1] * v_n[i]**2 / ((d_tuberias[i,0]/1000) * 2 * g)\n",
    "        h_fn[i] = h_f\n",
    "    return h_fn\n",
    "h_fn = h_fn()\n",
    "sp.Matrix(h_fn)"
   ],
   "metadata": {
    "collapsed": false,
    "pycharm": {
     "name": "#%%\n"
    }
   }
  },
  {
   "cell_type": "code",
   "execution_count": 196,
   "outputs": [
    {
     "data": {
      "text/plain": "Matrix([\n[0.181015329273755],\n[0.179797728839904],\n[0.858340580382244],\n[0.691071028069938]])",
      "text/latex": "$\\displaystyle \\left[\\begin{matrix}0.181015329273755\\\\0.179797728839904\\\\0.858340580382244\\\\0.691071028069938\\end{matrix}\\right]$"
     },
     "execution_count": 196,
     "metadata": {},
     "output_type": "execute_result"
    }
   ],
   "source": [
    "#funcion para hallar las perdidas menores h_fm\n",
    "def h_mn():\n",
    "    h_mn = np.empty(len(d_tuberias))\n",
    "    for i in range(len(d_tuberias)):\n",
    "        h_m = d_tuberias[i,3] * v_n[i]**2 / (2 * g)\n",
    "        h_mn[i] = h_m\n",
    "    return h_mn\n",
    "h_mn = h_mn()\n",
    "sp.Matrix(h_mn)"
   ],
   "metadata": {
    "collapsed": false,
    "pycharm": {
     "name": "#%%\n"
    }
   }
  },
  {
   "cell_type": "code",
   "execution_count": 201,
   "outputs": [
    {
     "data": {
      "text/plain": "6.0400887192808215"
     },
     "execution_count": 201,
     "metadata": {},
     "output_type": "execute_result"
    }
   ],
   "source": [
    "#suma para hallar un Ht\n",
    "Hn = np.sum(h_fn + h_mn)\n",
    "Hn"
   ],
   "metadata": {
    "collapsed": false,
    "pycharm": {
     "name": "#%%\n"
    }
   }
  },
  {
   "cell_type": "code",
   "execution_count": 203,
   "outputs": [
    {
     "data": {
      "text/plain": "0.423625605838502"
     },
     "execution_count": 203,
     "metadata": {},
     "output_type": "execute_result"
    }
   ],
   "source": [
    "def dif_hf():\n",
    "    d = 0\n",
    "    for i in range(len(d_tuberias)):\n",
    "        d += d_tuberias[i,1]/((d_tuberias[i,0]/1000)**5)\n",
    "    dif_hf = (Ht-Hn) * (d_tuberias[0,1]/(d_tuberias[0,0]/1000)**5)/d\n",
    "    return dif_hf\n",
    "\n",
    "dif_hf = dif_hf()\n",
    "dif_hf"
   ],
   "metadata": {
    "collapsed": false,
    "pycharm": {
     "name": "#%%\n"
    }
   }
  },
  {
   "cell_type": "code",
   "execution_count": 204,
   "outputs": [
    {
     "data": {
      "text/plain": "0.9611758043008491"
     },
     "execution_count": 204,
     "metadata": {},
     "output_type": "execute_result"
    }
   ],
   "source": [
    "h_f1 = h_f1 + dif_hf\n",
    "h_f1\n",
    "\n"
   ],
   "metadata": {
    "collapsed": false,
    "pycharm": {
     "name": "#%%\n"
    }
   }
  },
  {
   "cell_type": "code",
   "execution_count": null,
   "outputs": [],
   "source": [
    "\n"
   ],
   "metadata": {
    "collapsed": false,
    "pycharm": {
     "name": "#%%\n"
    }
   }
  }
 ],
 "metadata": {
  "kernelspec": {
   "display_name": "Python 3",
   "language": "python",
   "name": "python3"
  },
  "language_info": {
   "codemirror_mode": {
    "name": "ipython",
    "version": 2
   },
   "file_extension": ".py",
   "mimetype": "text/x-python",
   "name": "python",
   "nbconvert_exporter": "python",
   "pygments_lexer": "ipython2",
   "version": "2.7.6"
  }
 },
 "nbformat": 4,
 "nbformat_minor": 0
}