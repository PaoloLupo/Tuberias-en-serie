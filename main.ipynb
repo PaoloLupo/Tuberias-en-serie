{
 "cells": [
  {
   "cell_type": "code",
   "execution_count": 2,
   "metadata": {
    "collapsed": true,
    "pycharm": {
     "name": "#%%\n"
    }
   },
   "outputs": [],
   "source": [
    "import numpy as np\n",
    "import math\n",
    "import sympy as sp\n",
    "\n"
   ]
  },
  {
   "cell_type": "code",
   "execution_count": 3,
   "outputs": [],
   "source": [
    "#CALCULO TUBERIAS EN SERIE\n",
    "#constantes fisicas\n",
    "g = 9.81 #gravedad\n",
    "u = 1.14 * 10**(-6) # coeficiente de viscosidad cinematica 15 grados"
   ],
   "metadata": {
    "collapsed": false,
    "pycharm": {
     "name": "#%%\n"
    }
   }
  },
  {
   "cell_type": "code",
   "execution_count": 4,
   "outputs": [
    {
     "data": {
      "text/plain": "1.1399999999999999e-06"
     },
     "execution_count": 4,
     "metadata": {},
     "output_type": "execute_result"
    }
   ],
   "source": [
    "n = 1\n",
    "p = 1 #densidad del fluido\n",
    "\n",
    "Ht = 28.5 #altura total = z2-z1\n",
    "E = 1\n",
    "u"
   ],
   "metadata": {
    "collapsed": false,
    "pycharm": {
     "name": "#%%\n"
    }
   }
  },
  {
   "cell_type": "code",
   "execution_count": 5,
   "outputs": [
    {
     "data": {
      "text/plain": "Matrix([\n[600.0, 423.0,    0.3, 4.2],\n[500.0, 174.0, 0.0015, 3.4],\n[300.0, 373.0,    0.0, 5.3],\n[250.0, 121.0,    0.0, 7.5]])",
      "text/latex": "$\\displaystyle \\left[\\begin{matrix}600.0 & 423.0 & 0.3 & 4.2\\\\500.0 & 174.0 & 0.0015 & 3.4\\\\300.0 & 373.0 & 0.0 & 5.3\\\\250.0 & 121.0 & 0.0 & 7.5\\end{matrix}\\right]$"
     },
     "execution_count": 5,
     "metadata": {},
     "output_type": "execute_result"
    }
   ],
   "source": [
    "# datos a colocar (d(mm), L(m), k(mm), K)\n",
    "d_tuberias = np.array([\n",
    "    (600, 423, 0.3, 4.2),\n",
    "    (500, 174, 0.0015, 3.4),\n",
    "    (300, 373, 0, 5.3),\n",
    "    (250, 121, 0, 7.5)\n",
    "])\n",
    "sp.Matrix(d_tuberias)"
   ],
   "metadata": {
    "collapsed": false,
    "pycharm": {
     "name": "#%%\n"
    }
   }
  },
  {
   "cell_type": "code",
   "execution_count": 6,
   "outputs": [
    {
     "data": {
      "text/plain": "Matrix([\n[ 0.06],\n[0.074],\n[ 0.06]])",
      "text/latex": "$\\displaystyle \\left[\\begin{matrix}0.06\\\\0.074\\\\0.06\\end{matrix}\\right]$"
     },
     "execution_count": 6,
     "metadata": {},
     "output_type": "execute_result"
    }
   ],
   "source": [
    "# datos tuberias caudal extremo final (l/s)\n",
    "q_tuberias = np.array([\n",
    "    60,\n",
    "    74,\n",
    "    60,\n",
    "])/1000\n",
    "sp.Matrix(q_tuberias)"
   ],
   "metadata": {
    "collapsed": false,
    "pycharm": {
     "name": "#%%\n"
    }
   }
  },
  {
   "cell_type": "code",
   "execution_count": 7,
   "outputs": [
    {
     "data": {
      "text/plain": "'#Calculo perdidas de friccion\\ndef p_friccion():\\n    d = 0\\n    h_f = np.empty(len(d_tuberias))\\n    for i in range(len(d_tuberias)):\\n        d += d_tuberias[i,1]/((d_tuberias[i,0]/1000)**5)\\n    for i in range(len(d_tuberias)):\\n        h_f[i] = Ht * ((d_tuberias[i,1]/(d_tuberias[i,0]/1000)**5)/d)\\n\\n    return h_f\\n\\na = p_friccion()\\na'"
     },
     "execution_count": 7,
     "metadata": {},
     "output_type": "execute_result"
    }
   ],
   "source": [
    "\"\"\"#Calculo perdidas de friccion\n",
    "def p_friccion():\n",
    "    d = 0\n",
    "    h_f = np.empty(len(d_tuberias))\n",
    "    for i in range(len(d_tuberias)):\n",
    "        d += d_tuberias[i,1]/((d_tuberias[i,0]/1000)**5)\n",
    "    for i in range(len(d_tuberias)):\n",
    "        h_f[i] = Ht * ((d_tuberias[i,1]/(d_tuberias[i,0]/1000)**5)/d)\n",
    "\n",
    "    return h_f\n",
    "\n",
    "a = p_friccion()\n",
    "a\"\"\""
   ],
   "metadata": {
    "collapsed": false,
    "pycharm": {
     "name": "#%%\n"
    }
   }
  },
  {
   "cell_type": "code",
   "execution_count": 8,
   "outputs": [
    {
     "data": {
      "text/plain": "0.5375501984623472"
     },
     "execution_count": 8,
     "metadata": {},
     "output_type": "execute_result"
    }
   ],
   "source": [
    "def h_f1():\n",
    "    d = 0\n",
    "    for i in range(len(d_tuberias)):\n",
    "        d += d_tuberias[i,1]/((d_tuberias[i,0]/1000)**5)\n",
    "    h_f = Ht * (d_tuberias[0,1]/(d_tuberias[0,0]/1000)**5)/d\n",
    "    return h_f\n",
    "h_f = h_f1()\n",
    "h_f"
   ],
   "metadata": {
    "collapsed": false,
    "pycharm": {
     "name": "#%%\n"
    }
   }
  },
  {
   "cell_type": "code",
   "execution_count": 64,
   "outputs": [
    {
     "data": {
      "text/plain": "0.9195652130414507"
     },
     "execution_count": 64,
     "metadata": {},
     "output_type": "execute_result"
    }
   ],
   "source": [
    "# formula velocidad tuberia 1\n",
    "D1_metros = d_tuberias[0,0]/1000\n",
    "k1_metros = d_tuberias[0,2]/1000\n",
    "\n",
    "def v_1():\n",
    "    m = math.sqrt(2*g*D1_metros*h_f)\n",
    "    v_1 = ((-2 * m)/math.sqrt(d_tuberias[0,1]))*\\\n",
    "          math.log10((k1_metros/(3.7*D1_metros))+\\\n",
    "                     (2.51*u*math.sqrt(d_tuberias[0,1]))/(D1_metros*m))\n",
    "    return v_1\n",
    "\n",
    "\n",
    "v_1 = v_1()\n",
    "v_1"
   ],
   "metadata": {
    "collapsed": false,
    "pycharm": {
     "name": "#%%\n"
    }
   }
  },
  {
   "cell_type": "code",
   "execution_count": 10,
   "outputs": [
    {
     "data": {
      "text/plain": "0.18101532927375474"
     },
     "execution_count": 10,
     "metadata": {},
     "output_type": "execute_result"
    }
   ],
   "source": [
    "# calculo perdidas menores tuberia 1\n",
    "h_m1 = d_tuberias[0,3] * v_1**2/(2*g)\n",
    "h_m1"
   ],
   "metadata": {
    "collapsed": false,
    "pycharm": {
     "name": "#%%\n"
    }
   }
  },
  {
   "cell_type": "code",
   "execution_count": 11,
   "outputs": [
    {
     "data": {
      "text/plain": "0.2600009386008979"
     },
     "execution_count": 11,
     "metadata": {},
     "output_type": "execute_result"
    }
   ],
   "source": [
    "# calculo caudal tuberia 1\n",
    "Q_1 = math.pi/4 * D1_metros**2 * v_1\n",
    "Q_1"
   ],
   "metadata": {
    "collapsed": false,
    "pycharm": {
     "name": "#%%\n"
    }
   }
  },
  {
   "cell_type": "code",
   "execution_count": 60,
   "outputs": [
    {
     "data": {
      "text/plain": "Matrix([\n[ 0.260000938600898],\n[ 0.200000938600898],\n[ 0.126000938600898],\n[0.0660009386008979]])",
      "text/latex": "$\\displaystyle \\left[\\begin{matrix}0.260000938600898\\\\0.200000938600898\\\\0.126000938600898\\\\0.0660009386008979\\end{matrix}\\right]$"
     },
     "execution_count": 60,
     "metadata": {},
     "output_type": "execute_result"
    }
   ],
   "source": [
    "#calculo de caudales\n",
    "\n",
    "Q_n = np.empty([len(q_tuberias)+1])\n",
    "Q = 0\n",
    "Q_n[0] = Q_1\n",
    "\n",
    "for i in range(len(q_tuberias)):\n",
    "    Q += q_tuberias[i]\n",
    "    Q_n[i+1] = Q_1-Q\n",
    "\n",
    "\n",
    "sp.Matrix(Q_n)"
   ],
   "metadata": {
    "collapsed": false,
    "pycharm": {
     "name": "#%%\n"
    }
   }
  },
  {
   "cell_type": "code",
   "execution_count": 58,
   "outputs": [
    {
     "data": {
      "text/plain": "Matrix([\n[0.919565213041451],\n[ 1.01859641604325],\n[ 1.78254864111567],\n[ 1.34456008026081]])",
      "text/latex": "$\\displaystyle \\left[\\begin{matrix}0.919565213041451\\\\1.01859641604325\\\\1.78254864111567\\\\1.34456008026081\\end{matrix}\\right]$"
     },
     "execution_count": 58,
     "metadata": {},
     "output_type": "execute_result"
    }
   ],
   "source": [
    "\n",
    "v_n = np.empty(len(Q_n)+1)\n",
    "v_n[0] = v_1\n",
    "\n",
    "for i in range(len(Q_n)):\n",
    "    v = 4 * Q_n[i]/(math.pi*(d_tuberias[i,0]/1000)**2)\n",
    "    v_n[i] = v\n",
    "\n",
    "v_n = np.delete(v_n,-1)\n",
    "sp.Matrix(v_n)"
   ],
   "metadata": {
    "collapsed": false,
    "pycharm": {
     "name": "#%%\n"
    }
   }
  },
  {
   "cell_type": "code",
   "execution_count": 41,
   "outputs": [
    {
     "data": {
      "text/plain": "1.01859641604325"
     },
     "execution_count": 41,
     "metadata": {},
     "output_type": "execute_result"
    }
   ],
   "source": [
    "v = 4 * Q_n[1]/(math.pi*(d_tuberias[1,0]/1000)**2)\n",
    "v"
   ],
   "metadata": {
    "collapsed": false,
    "pycharm": {
     "name": "#%%\n"
    }
   }
  },
  {
   "cell_type": "code",
   "execution_count": 37,
   "outputs": [
    {
     "data": {
      "text/plain": "array([5.00e+02, 1.74e+02, 1.50e-03, 3.40e+00])"
     },
     "execution_count": 37,
     "metadata": {},
     "output_type": "execute_result"
    }
   ],
   "source": [
    "def Col_White():"
   ],
   "metadata": {
    "collapsed": false,
    "pycharm": {
     "name": "#%%\n"
    }
   }
  },
  {
   "cell_type": "code",
   "execution_count": null,
   "outputs": [],
   "source": [
    "\n"
   ],
   "metadata": {
    "collapsed": false,
    "pycharm": {
     "name": "#%%\n"
    }
   }
  }
 ],
 "metadata": {
  "kernelspec": {
   "display_name": "Python 3",
   "language": "python",
   "name": "python3"
  },
  "language_info": {
   "codemirror_mode": {
    "name": "ipython",
    "version": 2
   },
   "file_extension": ".py",
   "mimetype": "text/x-python",
   "name": "python",
   "nbconvert_exporter": "python",
   "pygments_lexer": "ipython2",
   "version": "2.7.6"
  }
 },
 "nbformat": 4,
 "nbformat_minor": 0
}
