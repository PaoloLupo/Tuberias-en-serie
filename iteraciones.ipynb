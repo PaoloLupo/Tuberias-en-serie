{
 "cells": [
  {
   "cell_type": "code",
   "execution_count": 108,
   "outputs": [],
   "source": [
    "import numpy as np\n",
    "import math\n",
    "import sympy as sp\n",
    "from scipy import optimize"
   ],
   "metadata": {
    "collapsed": false,
    "pycharm": {
     "name": "#%%\n"
    }
   }
  },
  {
   "cell_type": "code",
   "execution_count": 109,
   "outputs": [],
   "source": [
    "#constantes fisicas\n",
    "g = 9.81 #gravedad\n",
    "visc_c = 1.14 * 10**(-6) # coeficiente de viscosidad cinematica 15 grados\n"
   ],
   "metadata": {
    "collapsed": false,
    "pycharm": {
     "name": "#%%\n"
    }
   }
  },
  {
   "cell_type": "code",
   "execution_count": 110,
   "outputs": [
    {
     "data": {
      "text/plain": "Matrix([\n[600.0, 423.0,    0.3, 4.2],\n[500.0, 174.0, 0.0015, 3.4],\n[300.0, 373.0, 0.0015, 5.3],\n[250.0, 121.0, 0.0015, 7.5]])",
      "text/latex": "$\\displaystyle \\left[\\begin{matrix}600.0 & 423.0 & 0.3 & 4.2\\\\500.0 & 174.0 & 0.0015 & 3.4\\\\300.0 & 373.0 & 0.0015 & 5.3\\\\250.0 & 121.0 & 0.0015 & 7.5\\end{matrix}\\right]$"
     },
     "execution_count": 110,
     "metadata": {},
     "output_type": "execute_result"
    }
   ],
   "source": [
    "# datos a colocar (d(mm), L(m), k(mm), K)\n",
    "d_tuberias = np.array([\n",
    "    (600, 423, 0.3, 4.2),\n",
    "    (500, 174, 0.0015, 3.4),\n",
    "    (300, 373, 0.0015, 5.3),\n",
    "    (250, 121, 0.0015, 7.5)\n",
    "])\n",
    "sp.Matrix(d_tuberias)"
   ],
   "metadata": {
    "collapsed": false,
    "pycharm": {
     "name": "#%%\n"
    }
   }
  },
  {
   "cell_type": "code",
   "execution_count": 111,
   "outputs": [
    {
     "data": {
      "text/plain": "Matrix([\n[ 0.06],\n[0.074],\n[ 0.06]])",
      "text/latex": "$\\displaystyle \\left[\\begin{matrix}0.06\\\\0.074\\\\0.06\\end{matrix}\\right]$"
     },
     "execution_count": 111,
     "metadata": {},
     "output_type": "execute_result"
    }
   ],
   "source": [
    "# datos tuberias caudal extremo final (l/s)\n",
    "q_tuberias = np.array([\n",
    "    60,\n",
    "    74,\n",
    "    60,\n",
    "])/1000\n",
    "sp.Matrix(q_tuberias)"
   ],
   "metadata": {
    "collapsed": false,
    "pycharm": {
     "name": "#%%\n"
    }
   }
  },
  {
   "cell_type": "code",
   "execution_count": 112,
   "outputs": [],
   "source": [
    "class Tuberias:\n",
    "    #constantes físicas\n",
    "    g = 9.81 #gravedad\n",
    "    visc_c = 1.14 * 10**(-6) # coeficiente de viscosidad cinematica 15 grados\n",
    "\n",
    "    def __init__(self,d_tuberias,q_tuberias,Ht):\n",
    "        self.d_tuberias = d_tuberias\n",
    "        self.q_tuberias = q_tuberias\n",
    "        self.Ht = Ht\n",
    "\n",
    "    def h_f1(self):\n",
    "        d = 0\n",
    "        for i in range(len(self.d_tuberias)):\n",
    "            d += self.d_tuberias[i,1]/((self.d_tuberias[i,0]/1000)**5)\n",
    "        return self.Ht * (self.d_tuberias[0,1]/(self.d_tuberias[0,0]/1000)**5)/d\n",
    "\n",
    "    def v_1(self):\n",
    "        D1_metros = self.d_tuberias[0,0]/1000\n",
    "        k1_metros = self.d_tuberias[0,2]/1000\n",
    "        m = math.sqrt(2*g*D1_metros*self.h_f1())\n",
    "        return ((-2 * m)/math.sqrt(self.d_tuberias[0,1]))*\\\n",
    "                    math.log10((k1_metros/(3.7*D1_metros))+\\\n",
    "                         (2.51*visc_c*math.sqrt(self.d_tuberias[0,1]))/(D1_metros*m))\n",
    "\n",
    "    def q_n(self):\n",
    "        q_n = np.empty(len(self.d_tuberias))\n",
    "        q = 0\n",
    "        for i in range(len(self.q_tuberias)):\n",
    "            q += self.q_tuberias[i]\n",
    "            q_n[i+1] = q_n[0]-q\n",
    "        q_n[0] = math.pi/4 * (self.d_tuberias[0,0]/1000)**2 * self.v_1()\n",
    "        return q_n\n",
    "\n",
    "    def v_n(self):\n",
    "        v_n = np.empty(len(self.d_tuberias))\n",
    "        for i in range(len(self.d_tuberias)):\n",
    "            v = 4 * self.q_n()[i] / (math.pi*(self.d_tuberias[i,0]/1000)**2)\n",
    "            v_n[i] = v\n",
    "        v_n[0] = self.v_1()\n",
    "        return v_n\n",
    "\n",
    "    def n_reynolds(self):\n",
    "        re_n = np.empty(len(self.d_tuberias))\n",
    "        for i in range(len(self.d_tuberias)):\n",
    "            re = (self.d_tuberias[i,0] * self.v_n()[i]) / (visc_c*1000)\n",
    "            re_n[i] = re\n",
    "        return re_n\n",
    "\n",
    "    def f_n(self):\n",
    "        f_nc = lambda f,n : 1.0 / np.sqrt(f) + 2.0 * np.log10(\n",
    "            (self.d_tuberias[n, 2] / self.d_tuberias[n, 0]) / 3.7 + 2.51 / (self.n_reynolds()[n] * np.sqrt(f)))\n",
    "        f_n = [optimize.brentq(f_nc, 0.0000001, 1, args= (i)) for i in range(len(self.d_tuberias))]\n",
    "        f_n = np.array(f_n)\n",
    "        return f_n\n",
    "\n",
    "    def h_fn(self):\n",
    "        h_fn = np.empty(len(self.d_tuberias))\n",
    "        h_fn[0] = self.h_f1()\n",
    "        for i in range(len(self.d_tuberias)):\n",
    "            h_f = self.f_n()[i] * self.d_tuberias[i,1] * self.v_n()[i]**2 / ((self.d_tuberias[i,0]/1000) * 2 * g)\n",
    "            h_fn[i] = h_f\n",
    "        return h_fn\n",
    "\n",
    "    def h_mn(self):\n",
    "        h_mn = np.empty(len(self.d_tuberias))\n",
    "        for i in range(len(self.d_tuberias)):\n",
    "            h_m = self.d_tuberias[i,3] * self.v_n()[i]**2 / (2 * g)\n",
    "            h_mn[i] = h_m\n",
    "        return h_mn\n",
    "\n",
    "    def s_hn(self):\n",
    "        return np.sum(self.h_fn() + self.h_mn())\n",
    "\n",
    "    def nh_f1(self):\n",
    "        d = 0\n",
    "        for i in range(len(self.d_tuberias)):\n",
    "            d += self.d_tuberias[i,1] / ((self.d_tuberias[i,0]/1000)**5)\n",
    "        dif_hf = (self.Ht-self.s_hn()) * (self.d_tuberias[0,1]/(self.d_tuberias[0,0]/1000)**5)/d\n",
    "        nh_f1 = self.h_f1() + dif_hf\n",
    "        return nh_f1"
   ],
   "metadata": {
    "collapsed": false,
    "pycharm": {
     "name": "#%%\n"
    }
   }
  },
  {
   "cell_type": "code",
   "execution_count": 116,
   "metadata": {
    "pycharm": {
     "name": "#%%\n"
    }
   },
   "outputs": [
    {
     "data": {
      "text/plain": "0.9611758043008491"
     },
     "execution_count": 116,
     "metadata": {},
     "output_type": "execute_result"
    }
   ],
   "source": [
    "# definimos los datos de la tuberia y los caudales asi como la altura geometrica\n",
    "iteracion1 = Tuberias(d_tuberias,q_tuberias, 28.5)\n",
    "iteracion1.nh_f1()"
   ]
  },
  {
   "cell_type": "code",
   "execution_count": 113,
   "outputs": [],
   "source": [],
   "metadata": {
    "collapsed": false,
    "pycharm": {
     "name": "#%%\n"
    }
   }
  },
  {
   "cell_type": "code",
   "execution_count": 113,
   "outputs": [],
   "source": [
    "\n"
   ],
   "metadata": {
    "collapsed": false,
    "pycharm": {
     "name": "#%%\n"
    }
   }
  }
 ],
 "metadata": {
  "kernelspec": {
   "display_name": "Python 3",
   "language": "python",
   "name": "python3"
  },
  "language_info": {
   "codemirror_mode": {
    "name": "ipython",
    "version": 3
   },
   "file_extension": ".py",
   "mimetype": "text/x-python",
   "name": "python",
   "nbconvert_exporter": "python",
   "pygments_lexer": "ipython3",
   "version": "3.7.6"
  }
 },
 "nbformat": 4,
 "nbformat_minor": 1
}